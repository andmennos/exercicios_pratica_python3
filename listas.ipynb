{
 "cells": [
  {
   "cell_type": "code",
   "execution_count": 5,
   "id": "c3a4846e",
   "metadata": {},
   "outputs": [
    {
     "name": "stdout",
     "output_type": "stream",
     "text": [
      "['Brasil', 'Argentina', 'China', 'Canadá', 'japão']\n",
      "Canadá\n",
      "japão\n",
      "Tamanho da lista: 5\n",
      "['Brasil', 'Chile', 'China', 'Canadá', 'japão']\n"
     ]
    }
   ],
   "source": [
    "#Lista é uma sequencia ou coleção de valores, com cada valor identificado por um índice de posição que inicia com 0(zero)\n",
    "nomes_paises = ['Brasil', 'Argentina', 'China', 'Canadá', 'japão']\n",
    "#Imprimindo todos os países.\n",
    "print(nomes_paises)\n",
    "#Imprimindo Canadá\n",
    "print(nomes_paises[3])\n",
    "#Imprimindo Japão de trás pra frente.\n",
    "print(nomes_paises[-1])\n",
    "#Imprimindo a quantidade de elementos dentro da lista.\n",
    "print('Tamanho da lista:', len(nomes_paises))\n",
    "\n",
    "#Podemos reatribuir um valor de específico de uma lista\n",
    "pais = nomes_paises[1] = 'Chile'\n",
    "#Imprimindo lista com novo valor\n",
    "print(nomes_paises)"
   ]
  },
  {
   "cell_type": "code",
   "execution_count": 7,
   "id": "cdcd54cf",
   "metadata": {},
   "outputs": [
    {
     "name": "stdout",
     "output_type": "stream",
     "text": [
      "['Brasil', 'Chile', 'China', 'Canadá', 'japão']\n",
      "['Brasil', 'Chile', 'China']\n",
      "['China', 'Canadá', 'japão']\n",
      "['Brasil', 'China', 'japão']\n",
      "['japão', 'Canadá', 'China', 'Chile', 'Brasil']\n"
     ]
    }
   ],
   "source": [
    "#Slicing ou fatiamento, é uma técnica utilizada para acessar mais de um elemento da lista por vez.\n",
    "#Imprimindo a lista completa.\n",
    "print(nomes_paises[:])\n",
    "#Imprimindo a lista do início até a posição 2.\n",
    "print(nomes_paises[:3])\n",
    "#Imprimindo a lista da posição inicial 2 até o fim da lista.\n",
    "print(nomes_paises[2:])\n",
    "#Imprimindo a lista completa de 2 em 2.\n",
    "print(nomes_paises[::2])\n",
    "#Imprimindo a lista invertida.\n",
    "print(nomes_paises[::-1])"
   ]
  },
  {
   "cell_type": "code",
   "execution_count": 19,
   "id": "82ce637c",
   "metadata": {},
   "outputs": [
    {
     "name": "stdout",
     "output_type": "stream",
     "text": [
      "[]\n",
      "['Guarulhos', 'São Paulo', 'Campinas']\n",
      "['Guarulhos', 'Arujá', 'São Paulo', 'Campinas']\n",
      "['Guarulhos', 'Arujá', 'Campinas']\n",
      "['Guarulhos', 'Campinas']\n",
      "Arujá\n"
     ]
    }
   ],
   "source": [
    "#Podemos também adicionar novos elementos em uma lista com o método .append() ele sempre adiciona um valor ao final da lista.\n",
    "cidades = []\n",
    "#Imprimindo a lista vazia.\n",
    "print(cidades)\n",
    "#Adicionando valores a lista.\n",
    "cidades.append('Guarulhos')\n",
    "cidades.append('São Paulo')\n",
    "cidades.append('Campinas')\n",
    "#Imprimindo a mesma lista com os valores adicionados.\n",
    "print(cidades)\n",
    "\n",
    "#Para adicionar algum valor dentro da lista numa posição específica, utilizamos o método .insert() passando uma posição \n",
    "#e o que queremos adicionar\n",
    "cidades.insert(1, 'Arujá')\n",
    "print(cidades)\n",
    "\n",
    "#Para remover itens da lista, utilizamos o método .remove() passando o valor do elemento que queremos retirar.\n",
    "cidades.remove('São Paulo')\n",
    "print(cidades)\n",
    "#Podemos também remover valores em posições específicas com o método .pop() passando o número da posição do valor que \n",
    "#queremos retirar. Porém, esse método retorna o valor que retiramos e podemos atribui-lo a uma outra variável.\n",
    "removido = cidades.pop(1)\n",
    "print(cidades)\n",
    "print(removido)"
   ]
  },
  {
   "cell_type": "code",
   "execution_count": null,
   "id": "7a2e194c",
   "metadata": {},
   "outputs": [],
   "source": []
  },
  {
   "cell_type": "code",
   "execution_count": null,
   "id": "9399fd78",
   "metadata": {},
   "outputs": [],
   "source": []
  },
  {
   "cell_type": "code",
   "execution_count": null,
   "id": "0c43baa2",
   "metadata": {},
   "outputs": [],
   "source": []
  },
  {
   "cell_type": "code",
   "execution_count": null,
   "id": "64c31a3a",
   "metadata": {},
   "outputs": [],
   "source": []
  },
  {
   "cell_type": "code",
   "execution_count": null,
   "id": "b84d3482",
   "metadata": {},
   "outputs": [],
   "source": []
  },
  {
   "cell_type": "code",
   "execution_count": null,
   "id": "de0d5cd8",
   "metadata": {},
   "outputs": [],
   "source": []
  },
  {
   "cell_type": "code",
   "execution_count": 13,
   "id": "5691d305",
   "metadata": {},
   "outputs": [
    {
     "name": "stdout",
     "output_type": "stream",
     "text": [
      "['Guarulhos', 'Arujá', 'Campinas']\n"
     ]
    }
   ],
   "source": [
    "print(cidades)"
   ]
  },
  {
   "cell_type": "code",
   "execution_count": null,
   "id": "ad10f534",
   "metadata": {},
   "outputs": [],
   "source": []
  },
  {
   "cell_type": "code",
   "execution_count": null,
   "id": "b3b68e3e",
   "metadata": {},
   "outputs": [],
   "source": []
  },
  {
   "cell_type": "code",
   "execution_count": null,
   "id": "64213c11",
   "metadata": {},
   "outputs": [],
   "source": []
  },
  {
   "cell_type": "code",
   "execution_count": null,
   "id": "9f31e6e3",
   "metadata": {},
   "outputs": [],
   "source": []
  },
  {
   "cell_type": "code",
   "execution_count": null,
   "id": "e87ebfcc",
   "metadata": {},
   "outputs": [],
   "source": []
  },
  {
   "cell_type": "code",
   "execution_count": null,
   "id": "b95bcff7",
   "metadata": {},
   "outputs": [],
   "source": []
  },
  {
   "cell_type": "code",
   "execution_count": null,
   "id": "50e12ce2",
   "metadata": {},
   "outputs": [],
   "source": []
  },
  {
   "cell_type": "code",
   "execution_count": null,
   "id": "9140221e",
   "metadata": {},
   "outputs": [],
   "source": []
  },
  {
   "cell_type": "code",
   "execution_count": null,
   "id": "051c91e3",
   "metadata": {},
   "outputs": [],
   "source": []
  }
 ],
 "metadata": {
  "kernelspec": {
   "display_name": "Python 3 (ipykernel)",
   "language": "python",
   "name": "python3"
  },
  "language_info": {
   "codemirror_mode": {
    "name": "ipython",
    "version": 3
   },
   "file_extension": ".py",
   "mimetype": "text/x-python",
   "name": "python",
   "nbconvert_exporter": "python",
   "pygments_lexer": "ipython3",
   "version": "3.9.6"
  }
 },
 "nbformat": 4,
 "nbformat_minor": 5
}
