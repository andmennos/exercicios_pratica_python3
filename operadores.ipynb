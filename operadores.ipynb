{
 "cells": [
  {
   "cell_type": "code",
   "execution_count": 5,
   "id": "2fe2fd36",
   "metadata": {},
   "outputs": [],
   "source": [
    "#Operadores Aritméticos\n",
    "x = 50\n",
    "y = 2\n",
    "adicao = x + y\n",
    "subtracao = x - y\n",
    "multiplicacao = x * y\n",
    "divisao = x / y\n",
    "potenciacao = x ** y\n",
    "divisao_inteira = x // y\n",
    "resto = x % y"
   ]
  },
  {
   "cell_type": "code",
   "execution_count": 6,
   "id": "64e63ac3",
   "metadata": {},
   "outputs": [
    {
     "name": "stdout",
     "output_type": "stream",
     "text": [
      "Adição de x + y= 52\n",
      "Subtração de x - y= 48\n",
      "Multiplicação de x * y= 100\n",
      "Divisão de x / y= 25.0\n",
      "Potenciação de x ** y= 2500\n",
      "Divisão inteira de x // y= 25\n",
      "Resto da divisão de x % y= 0\n"
     ]
    }
   ],
   "source": [
    "print(f'Adição de x + y= {adicao}')\n",
    "print(f'Subtração de x - y= {subtracao}')\n",
    "print(f'Multiplicação de x * y= {multiplicacao}')\n",
    "print(f'Divisão de x / y= {divisao}')\n",
    "print(f'Potenciação de x ** y= {potenciacao}')\n",
    "print(f'Divisão inteira de x // y= {divisao_inteira}')\n",
    "print(f'Resto da divisão de x % y= {resto}')\n"
   ]
  },
  {
   "cell_type": "code",
   "execution_count": 8,
   "id": "869791a7",
   "metadata": {},
   "outputs": [],
   "source": [
    "#Operadores lógicos\n",
    "tem_cafe = True\n",
    "tem_pao = False"
   ]
  },
  {
   "cell_type": "code",
   "execution_count": 11,
   "id": "1523bba5",
   "metadata": {},
   "outputs": [
    {
     "name": "stdout",
     "output_type": "stream",
     "text": [
      "not False\n",
      "not True\n",
      "or True\n",
      "and False\n"
     ]
    }
   ],
   "source": [
    "#Operador not inverte o valor, nesse caso tem_cafe será false\n",
    "print('not', not tem_cafe)\n",
    "print('not', not tem_pao)\n",
    "\n",
    "#Operador or retorna true para uma ou ambas expressões lógicas\n",
    "print('or', tem_cafe or tem_pao)\n",
    "\n",
    "#Operador and retorna true apenas se ambasas expressões forem verdadeiras\n",
    "print('and', tem_cafe and tem_pao)"
   ]
  },
  {
   "cell_type": "code",
   "execution_count": 15,
   "id": "a71bdf6d",
   "metadata": {},
   "outputs": [],
   "source": [
    "#Operadores Relacionais\n",
    "maior = x > y\n",
    "menor = x < y\n",
    "igual = x == y\n",
    "maior_ou_igual = x >= y\n",
    "menor_ou_igual = x <= y\n",
    "diferente = x != y\n"
   ]
  },
  {
   "cell_type": "code",
   "execution_count": 17,
   "id": "edee6d66",
   "metadata": {},
   "outputs": [
    {
     "name": "stdout",
     "output_type": "stream",
     "text": [
      "X é maior? True\n",
      "X é menor? False\n",
      "X é igual? False\n",
      "X é maior ou igual? True\n",
      "X é menor ou igual? False\n",
      "X é diferente? True\n"
     ]
    }
   ],
   "source": [
    "print(f'X é maior? {maior}')\n",
    "print(f'X é menor? {menor}')\n",
    "print(f'X é igual? {igual}')\n",
    "print(f'X é maior ou igual? {maior_ou_igual}')\n",
    "print(f'X é menor ou igual? {menor_ou_igual}')\n",
    "print(f'X é diferente? {diferente}')\n"
   ]
  },
  {
   "cell_type": "code",
   "execution_count": null,
   "id": "cd29b005",
   "metadata": {},
   "outputs": [],
   "source": []
  }
 ],
 "metadata": {
  "kernelspec": {
   "display_name": "Python 3 (ipykernel)",
   "language": "python",
   "name": "python3"
  },
  "language_info": {
   "codemirror_mode": {
    "name": "ipython",
    "version": 3
   },
   "file_extension": ".py",
   "mimetype": "text/x-python",
   "name": "python",
   "nbconvert_exporter": "python",
   "pygments_lexer": "ipython3",
   "version": "3.9.6"
  }
 },
 "nbformat": 4,
 "nbformat_minor": 5
}
