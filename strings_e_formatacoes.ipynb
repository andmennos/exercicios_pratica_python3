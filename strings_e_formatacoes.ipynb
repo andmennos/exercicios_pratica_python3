{
 "cells": [
  {
   "cell_type": "code",
   "execution_count": 1,
   "id": "adb6b75c",
   "metadata": {},
   "outputs": [
    {
     "name": "stdout",
     "output_type": "stream",
     "text": [
      "O professor Pietro da Let's Code disse: 'Hoje a pizza é por minha conta'\n"
     ]
    }
   ],
   "source": [
    "#Formatação de String - Caracter de escape\n",
    "#O caracter de escape, altera o sentido que o caracter tem dentro do texto, sempre utilizado antes do caracter que você alterar.\n",
    "print('O professor Pietro da Let\\'s Code disse: \\'Hoje a pizza é por minha conta\\'')"
   ]
  },
  {
   "cell_type": "code",
   "execution_count": 4,
   "id": "bd5a4bc8",
   "metadata": {},
   "outputs": [
    {
     "name": "stdout",
     "output_type": "stream",
     "text": [
      "gl\n"
     ]
    }
   ],
   "source": [
    "#Iteração em string\n",
    "#Utilizando o colchete, podemos acessar um caracter de uma string.\n",
    "empresa = 'Google'\n",
    "print(empresa[3:5])\n"
   ]
  },
  {
   "cell_type": "code",
   "execution_count": 5,
   "id": "d8248e2d",
   "metadata": {},
   "outputs": [
    {
     "name": "stdout",
     "output_type": "stream",
     "text": [
      "['São Paulo', 'Belo Horizonte', 'Rio de Janeiro', 'Brasília']\n"
     ]
    }
   ],
   "source": [
    "#Métodos para string - SPLIT\n",
    "#Esse método retorna a string separando de acordo com o que foi definido. Primeiro definimos qual caracter que vai separar-\n",
    "#as strings. No exemplo abaixo, o separador é vírgula e espaço. Quando não definido, o caracter separador é o espaço.\n",
    "nomes_cidades = 'São Paulo, Belo Horizonte, Rio de Janeiro, Brasília'\n",
    "print(nomes_cidades.split(', '))"
   ]
  },
  {
   "cell_type": "code",
   "execution_count": 8,
   "id": "32ceb9ce",
   "metadata": {},
   "outputs": [
    {
     "name": "stdout",
     "output_type": "stream",
     "text": [
      "        MENU PRINCIPAL       \n",
      "MENU PRINCIPAL\n"
     ]
    }
   ],
   "source": [
    "#Método .strip()\n",
    "#Retira os espaços excessivos no início e/ou no final de qualquer valor textual.\n",
    "cabecalho = \"        MENU PRINCIPAL       \"\n",
    "print(cabecalho)\n",
    "print(cabecalho.strip())"
   ]
  },
  {
   "cell_type": "code",
   "execution_count": 11,
   "id": "9d894a45",
   "metadata": {},
   "outputs": [
    {
     "name": "stdout",
     "output_type": "stream",
     "text": [
      "Rio De Janeiro\n",
      "Rio de janeiro\n",
      "rio de janeiro\n",
      "RIO DE JANEIRO\n",
      "Qual a capital do Brasil? judas\n",
      "\n",
      "Tente novamente\n",
      "Qual a capital do Brasil? Brasilia\n",
      "\n",
      "Tente novamente\n",
      "Qual a capital do Brasil? Brasília\n",
      "\n",
      "Acertou!!\n"
     ]
    }
   ],
   "source": [
    "#Métodos para Variação de Caixas\n",
    "#.title() - Para formatação de título, cada primeira letra de uma palavra, ficará em maiúscula.\n",
    "#.capitalize() - Põe em caixa alta a primeira letra da fase em maiúsculo, deixando o restante da frase em minúsculo\n",
    "#.lower() - Transforma todo o texto em minúsculo.\n",
    "#.upper() - Transforma todo o texto em maiúsculo.\n",
    "nome_cidade = 'rIo DE jaNeirO'\n",
    "\n",
    "print(nome_cidade.title())\n",
    "print(nome_cidade.capitalize())\n",
    "print(nome_cidade.lower())\n",
    "print(nome_cidade.upper())\n",
    "\n",
    "#Exemplo de aplicação\n",
    "nome_cidade = input('Qual a capital do Brasil? ')\n",
    "nome_cidade = nome_cidade.strip()\n",
    "while nome_cidade.lower() != 'brasília':\n",
    "    print('\\nTente novamente')\n",
    "    nome_cidade = input('Qual a capital do Brasil? ')\n",
    "    \n",
    "print('\\nAcertou!!')"
   ]
  },
  {
   "cell_type": "code",
   "execution_count": 16,
   "id": "2bcd1e1e",
   "metadata": {},
   "outputs": [
    {
     "name": "stdout",
     "output_type": "stream",
     "text": [
      "True <class 'bool'>\n"
     ]
    }
   ],
   "source": [
    "#Método para pesquisa em string\n",
    "#Com a função in, podemos verificar se uma palavra está dentro de uma string.\n",
    "mensagem = 'Você viu o que o professor Pietro fez na sala ontem?'\n",
    "\n",
    "pesquisa_pietro = 'Pietro' in mensagem\n",
    "\n",
    "print(pesquisa_pietro)\n",
    "\n",
    "#Esse print de pesquisa_pietro do tipo boleano, irá retornar True, caso a palavra \"Pietro\" esteja em mensagem e False, caso não.\n"
   ]
  },
  {
   "cell_type": "code",
   "execution_count": null,
   "id": "c4f1a02c",
   "metadata": {},
   "outputs": [],
   "source": []
  }
 ],
 "metadata": {
  "kernelspec": {
   "display_name": "Python 3 (ipykernel)",
   "language": "python",
   "name": "python3"
  },
  "language_info": {
   "codemirror_mode": {
    "name": "ipython",
    "version": 3
   },
   "file_extension": ".py",
   "mimetype": "text/x-python",
   "name": "python",
   "nbconvert_exporter": "python",
   "pygments_lexer": "ipython3",
   "version": "3.9.6"
  }
 },
 "nbformat": 4,
 "nbformat_minor": 5
}
