{
 "cells": [
  {
   "cell_type": "code",
   "execution_count": 7,
   "id": "232644e9",
   "metadata": {},
   "outputs": [
    {
     "name": "stdout",
     "output_type": "stream",
     "text": [
      "Informe a sua idade: 30\n",
      "30 <class 'str'>\n"
     ]
    }
   ],
   "source": [
    "#Note que mesmo que no input a pessoa coloque apenas números, o tipo da variável é mapeada como string. Isso acontece devido-\n",
    "#uma atualização do python2 para o python3, pois, anteriormente ele fazia esse reconhecimento automatico, mas isso gerava-\n",
    "#diversos problemas. \n",
    "idade = input('Informe a sua idade: ')\n",
    "print(idade, type(idade))"
   ]
  },
  {
   "cell_type": "code",
   "execution_count": 13,
   "id": "66fa5c16",
   "metadata": {},
   "outputs": [
    {
     "name": "stdout",
     "output_type": "stream",
     "text": [
      "30 <class 'int'>\n",
      "123.25\n",
      "123.25\n",
      "False\n",
      "True\n",
      "False\n",
      "True\n"
     ]
    }
   ],
   "source": [
    "#Podemos utilizar uma função especifica para transformar o tipo da informação inserida no input. Para um tipo número, podemos-\n",
    "#usar a função int(), porém, isso apenas funciona se o valor for número, caso seja número com letras, o python irá acusar erro.\n",
    "idade = int(idade)\n",
    "print(idade, type(idade))\n",
    "#E também passar para outros tipos:\n",
    "print(float('123.25'))\n",
    "print(str(123.25))\n",
    "print(bool(''))#Para tipos boleanos, será False caso esteja vazio.\n",
    "print(bool('abc'))#True quando existe algo.\n",
    "print(bool(0))#Para números, apenas será False caso o número seja zero.\n",
    "print(bool(-2))#Mesmo negativo, como não é zero, o retorno será True"
   ]
  },
  {
   "cell_type": "code",
   "execution_count": null,
   "id": "4e77da9c",
   "metadata": {},
   "outputs": [],
   "source": [
    "#Podemos também já inserir essa função diretamente no casting do input.\n",
    "idade_pai = int(input(('Informe a idade de seu pai: '))\n",
    "print(idade_pai, type(idade_pai))"
   ]
  },
  {
   "cell_type": "code",
   "execution_count": 3,
   "id": "1bdb04b1",
   "metadata": {},
   "outputs": [
    {
     "name": "stdout",
     "output_type": "stream",
     "text": [
      "Informe seu salário mensal R$: 5000\n",
      "Informe seu gasto mensal em média R$: 2000\n",
      "\n",
      "O montante economizado ao final do ano é de R$ 36000.0\n",
      "<class 'float'>\n"
     ]
    }
   ],
   "source": [
    "#Ex. de aplicação | Criação de um aplicativo que prevê o montante que pode ser economizado, sabendo seu salario e gasto mensal\n",
    "salario_mensal = (float(input('Informe seu salário mensal R$: ')))\n",
    "gasto_mensal = (float(input('Informe seu gasto mensal em média R$: ')))\n",
    "ano = 12\n",
    "salario_anual = salario_mensal * ano\n",
    "gasto_anual = gasto_mensal * ano\n",
    "montante_economizado = salario_anual - gasto_anual\n",
    "\n",
    "print(f'\\nO montante economizado ao final do ano é de R$ {montante_economizado}')"
   ]
  },
  {
   "cell_type": "code",
   "execution_count": null,
   "id": "d7b4ce89",
   "metadata": {},
   "outputs": [],
   "source": []
  }
 ],
 "metadata": {
  "kernelspec": {
   "display_name": "Python 3 (ipykernel)",
   "language": "python",
   "name": "python3"
  },
  "language_info": {
   "codemirror_mode": {
    "name": "ipython",
    "version": 3
   },
   "file_extension": ".py",
   "mimetype": "text/x-python",
   "name": "python",
   "nbconvert_exporter": "python",
   "pygments_lexer": "ipython3",
   "version": "3.9.6"
  }
 },
 "nbformat": 4,
 "nbformat_minor": 5
}
