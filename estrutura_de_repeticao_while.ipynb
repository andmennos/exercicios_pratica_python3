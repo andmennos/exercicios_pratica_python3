{
 "cells": [
  {
   "cell_type": "code",
   "execution_count": 2,
   "id": "c4a9e20f",
   "metadata": {},
   "outputs": [
    {
     "name": "stdout",
     "output_type": "stream",
     "text": [
      "1 Item limpo\n",
      "2 Itens limpos\n",
      "3 Itens limpos\n",
      "4 Itens limpos\n",
      "5 Itens limpos\n",
      "6 Itens limpos\n",
      "7 Itens limpos\n",
      "8 Itens limpos\n",
      "9 Itens limpos\n",
      "10 Itens limpos\n",
      "\n",
      "Fim da repetição whle\n"
     ]
    }
   ],
   "source": [
    "#Note a necessidade de definir um incrementador para que o while não entre num loop infinito, nunca chegando em seu máximo.\n",
    "\n",
    "contador = 0\n",
    "limite = 10\n",
    "\n",
    "while contador < limite:\n",
    "    contador = contador + 1\n",
    "    \n",
    "    if contador == 1:\n",
    "        print(contador, 'Item limpo')\n",
    "    else:\n",
    "        print(contador, 'Itens limpos')\n",
    "\n",
    "print('\\nFim da repetição while')"
   ]
  },
  {
   "cell_type": "code",
   "execution_count": 5,
   "id": "46b8d3ff",
   "metadata": {},
   "outputs": [
    {
     "name": "stdout",
     "output_type": "stream",
     "text": [
      "1 Item limpo\n",
      "2 Itens limpos\n",
      "3 Itens limpos\n",
      "4 Itens limpos\n",
      "5 Itens limpos\n",
      "6 Itens limpos\n",
      "7 Itens limpos\n",
      "8 Itens limpos\n",
      "9 Itens limpos\n",
      "10 Itens limpos\n",
      "\n",
      "Fim da repetição while\n"
     ]
    }
   ],
   "source": [
    "#Note que nesse caso, estamos utilizando o break para sair da repetição. Aqui o if irá verificar o valor de contador e imprimir-\n",
    "#de acordo com esse valor. Quando o contador não for mais menor que 10, ele irá para a condição else, aplicando o break.\n",
    "\n",
    "contador = 0\n",
    "limite = 10\n",
    "\n",
    "while True:\n",
    "    if contador < 10:\n",
    "        contador = contador + 1\n",
    "        if contador == 1:\n",
    "            print(contador, 'Item limpo')\n",
    "        else:\n",
    "            print(contador, 'Itens limpos')\n",
    "            \n",
    "    else:\n",
    "        break\n",
    "\n",
    "print('\\nFim da repetição while')"
   ]
  },
  {
   "cell_type": "code",
   "execution_count": 12,
   "id": "8b9470a0",
   "metadata": {},
   "outputs": [
    {
     "name": "stdout",
     "output_type": "stream",
     "text": [
      "Digite sua senha: letscode\n",
      "\n",
      "Senha Inválida. Tente novamente: novo\n",
      "\n",
      "Senha Inválida. Tente novamente: senhacorreta\n",
      "\n",
      "Acesso Permitido!\n"
     ]
    }
   ],
   "source": [
    "#Nesse uso de while, é solicitado um input que define a variável senha e entra na repetição, caso a entrada fornecida seja -\n",
    "#diferente da senha previamente definida, a repetição se inicia, solicitando uma nova entrada e imprimindo o texto de aviso. \n",
    "#Quando a entrada 'senha' deixar de ser diferente da previamente fornecida, ele sai da repetição.\n",
    "\n",
    "senha = input('Digite sua senha: ')\n",
    "senha_correta = 'senhacorreta'\n",
    "\n",
    "while senha != senha_correta:\n",
    "    senha = input('\\nSenha Inválida. Tente novamente: ')\n",
    "    \n",
    "print('\\nAcesso Permitido!')"
   ]
  },
  {
   "cell_type": "code",
   "execution_count": 13,
   "id": "6c0de14c",
   "metadata": {},
   "outputs": [
    {
     "name": "stdout",
     "output_type": "stream",
     "text": [
      "2 Itens limpos\n",
      "3 Itens limpos\n",
      "4 Itens limpos\n",
      "5 Itens limpos\n",
      "6 Itens limpos\n",
      "7 Itens limpos\n",
      "8 Itens limpos\n",
      "9 Itens limpos\n",
      "10 Itens limpos\n",
      "\n",
      "Fim da repetição while\n"
     ]
    }
   ],
   "source": [
    "#Nesse caso, estamos aplicando o comando continue. A menos que o contador seja igual a 1, ele irá imprimir o contador e a -\n",
    "#string 'itens limpos'. Ou seja, o continue faz com que o repetidor pule para a próxima iteração, de acordo com a condnição -\n",
    "#aplicada, imprimindo a partir do contador de número 2. \n",
    "\n",
    "contador = 0\n",
    "limite = 10\n",
    "\n",
    "while contador < limite:\n",
    "    contador = contador + 1\n",
    "    if contador == 1:\n",
    "        continue\n",
    "    print(contador, 'Itens limpos')\n",
    "\n",
    "print('\\nFim da repetição while')"
   ]
  },
  {
   "cell_type": "code",
   "execution_count": null,
   "id": "8cd7be81",
   "metadata": {},
   "outputs": [],
   "source": []
  }
 ],
 "metadata": {
  "kernelspec": {
   "display_name": "Python 3 (ipykernel)",
   "language": "python",
   "name": "python3"
  },
  "language_info": {
   "codemirror_mode": {
    "name": "ipython",
    "version": 3
   },
   "file_extension": ".py",
   "mimetype": "text/x-python",
   "name": "python",
   "nbconvert_exporter": "python",
   "pygments_lexer": "ipython3",
   "version": "3.9.6"
  }
 },
 "nbformat": 4,
 "nbformat_minor": 5
}
