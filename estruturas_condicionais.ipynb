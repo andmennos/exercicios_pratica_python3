{
 "cells": [
  {
   "cell_type": "code",
   "execution_count": 17,
   "id": "c4ce9e29",
   "metadata": {},
   "outputs": [
    {
     "name": "stdout",
     "output_type": "stream",
     "text": [
      "Informe o valor total da corrida: R$ 35\n",
      "Pegue um ônibus\n"
     ]
    }
   ],
   "source": [
    "#Tomar muito cuidado com a identação dos comandos if else elif, podem ser bem complicados com um cógido maior\n",
    "#Note que em if e else, sempre são identados um abaixo o outro e caso você começe um novo if, seu respectivo else, segue abaixo-\n",
    "#do novo if.\n",
    "\n",
    "valor_passagem = 4.30\n",
    "limit_min = 5\n",
    "limit_max = 6\n",
    "valor_corrida = float(input('Informe o valor total da corrida: R$ '))\n",
    "\n",
    "if valor_corrida <= limit_min * valor_passagem:\n",
    "    print('Pague a corrida!')\n",
    "    \n",
    "else:\n",
    "    if valor_corrida <= limit_max * valor_passagem:\n",
    "        print('Aguarde um momento, o valor pode baixar.')\n",
    "    else:\n",
    "        print('Pegue um ônibus')\n"
   ]
  },
  {
   "cell_type": "code",
   "execution_count": null,
   "id": "fd7164a1",
   "metadata": {},
   "outputs": [],
   "source": [
    "#Note que com o comando elif, mesmo sendo um if dentro de um else, a identação segue na mesma linha.\n",
    "#O comando elif é utilizado para negar uma condição anterior e testar a nova condição.\n",
    "\n",
    "valor_passagem = 4.30\n",
    "limit_min = 5\n",
    "limit_max = 6\n",
    "valor_corrida = float(input('Informe o valor total da corrida: R$ '))\n",
    "\n",
    "if valor_corrida <= limit_min * valor_passagem:\n",
    "    print('Pague a corrida!')\n",
    "    \n",
    "elif valor_corrida <= limit_max * valor_passagem:\n",
    "    print('Aguarde um momento, o valor pode baixar.')\n",
    "    \n",
    "else:\n",
    "    print('Pegue um ônibus')\n"
   ]
  }
 ],
 "metadata": {
  "kernelspec": {
   "display_name": "Python 3 (ipykernel)",
   "language": "python",
   "name": "python3"
  },
  "language_info": {
   "codemirror_mode": {
    "name": "ipython",
    "version": 3
   },
   "file_extension": ".py",
   "mimetype": "text/x-python",
   "name": "python",
   "nbconvert_exporter": "python",
   "pygments_lexer": "ipython3",
   "version": "3.9.6"
  }
 },
 "nbformat": 4,
 "nbformat_minor": 5
}
