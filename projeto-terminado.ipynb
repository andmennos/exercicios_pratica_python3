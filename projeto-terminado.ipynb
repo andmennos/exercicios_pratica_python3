{
 "cells": [
  {
   "cell_type": "code",
   "execution_count": 1,
   "id": "32447819",
   "metadata": {},
   "outputs": [],
   "source": [
    "import requests as r"
   ]
  },
  {
   "cell_type": "code",
   "execution_count": 2,
   "id": "edb33cd7",
   "metadata": {},
   "outputs": [],
   "source": [
    "url = 'https://api.covid19api.com/dayone/country/brazil'\n",
    "resp = r.get(url)"
   ]
  },
  {
   "cell_type": "code",
   "execution_count": 3,
   "id": "2792ab9e",
   "metadata": {},
   "outputs": [],
   "source": [
    "raw_data = resp.json()"
   ]
  },
  {
   "cell_type": "code",
   "execution_count": 4,
   "id": "6e39ec24",
   "metadata": {},
   "outputs": [
    {
     "data": {
      "text/plain": [
       "{'ID': '5b679794-2952-4c4c-a873-af6ff457b0fd',\n",
       " 'Country': 'Brazil',\n",
       " 'CountryCode': 'BR',\n",
       " 'Province': '',\n",
       " 'City': '',\n",
       " 'CityCode': '',\n",
       " 'Lat': '-14.24',\n",
       " 'Lon': '-51.93',\n",
       " 'Confirmed': 1,\n",
       " 'Deaths': 0,\n",
       " 'Recovered': 0,\n",
       " 'Active': 1,\n",
       " 'Date': '2020-02-26T00:00:00Z'}"
      ]
     },
     "execution_count": 4,
     "metadata": {},
     "output_type": "execute_result"
    }
   ],
   "source": [
    "raw_data[0]"
   ]
  },
  {
   "cell_type": "code",
   "execution_count": 5,
   "id": "8fde4e2a",
   "metadata": {},
   "outputs": [],
   "source": [
    "final_data = []\n",
    "for obs in raw_data:\n",
    "    final_data.append([obs['Confirmed'], obs['Deaths'], obs['Recovered'], obs['Active'], obs['Date']])"
   ]
  },
  {
   "cell_type": "code",
   "execution_count": 6,
   "id": "641aae64",
   "metadata": {},
   "outputs": [],
   "source": [
    "final_data.insert(0, ['confirmados', 'obitos', 'recuperados', 'ativos', 'data'])"
   ]
  },
  {
   "cell_type": "code",
   "execution_count": 7,
   "id": "74a18d14",
   "metadata": {},
   "outputs": [],
   "source": [
    "CONFIRMADOS = 0\n",
    "OBITOS = 1\n",
    "RECUPERADOS = 2\n",
    "ATIVOS = 3\n",
    "DATA = 4"
   ]
  },
  {
   "cell_type": "code",
   "execution_count": 8,
   "id": "d9cde50d",
   "metadata": {},
   "outputs": [],
   "source": [
    "for i in range (1, len(final_data)):\n",
    "    final_data[i][DATA] = final_data[i][DATA][:10]"
   ]
  },
  {
   "cell_type": "code",
   "execution_count": 9,
   "id": "4affe611",
   "metadata": {},
   "outputs": [],
   "source": [
    "import csv"
   ]
  },
  {
   "cell_type": "code",
   "execution_count": 10,
   "id": "3cb5cf9d",
   "metadata": {},
   "outputs": [],
   "source": [
    "with open('brasil_covid.csv', 'w') as file_csv:\n",
    "    escritor = csv.writer(file_csv)\n",
    "    escritor.writerows(final_data)"
   ]
  },
  {
   "cell_type": "code",
   "execution_count": 11,
   "id": "c0040d7f",
   "metadata": {},
   "outputs": [],
   "source": [
    "import datetime as dt"
   ]
  },
  {
   "cell_type": "code",
   "execution_count": 12,
   "id": "3d1aa89d",
   "metadata": {},
   "outputs": [],
   "source": [
    "for i in range (1, len(final_data)):\n",
    "    final_data[i][DATA] = dt.datetime.strptime(final_data[i][DATA], '%Y-%m-%d')"
   ]
  },
  {
   "cell_type": "code",
   "execution_count": 13,
   "id": "28e60928",
   "metadata": {},
   "outputs": [],
   "source": [
    "def get_datasets (y, labels):\n",
    "    if type(y[0]) == list:\n",
    "        datasets = []\n",
    "        for i in range(len(y)):\n",
    "            datasets.append({\n",
    "                'label': labels[i],\n",
    "                'data': y[i]\n",
    "            })\n",
    "        return datasets\n",
    "    else:\n",
    "        return [{\n",
    "            'label': labels[0],\n",
    "            'data': y\n",
    "        }]"
   ]
  },
  {
   "cell_type": "code",
   "execution_count": 14,
   "id": "64681dc9",
   "metadata": {},
   "outputs": [],
   "source": [
    "def set_title (title=''):\n",
    "    if title != '':\n",
    "        display = 'true'\n",
    "    else:\n",
    "        display = 'false'\n",
    "    return {\n",
    "        'title': title,\n",
    "        'display': display\n",
    "    }"
   ]
  },
  {
   "cell_type": "code",
   "execution_count": 15,
   "id": "d88641d6",
   "metadata": {},
   "outputs": [
    {
     "data": {
      "text/plain": [
       "['confirmados', 'obitos', 'recuperados', 'ativos', 'data']"
      ]
     },
     "execution_count": 15,
     "metadata": {},
     "output_type": "execute_result"
    }
   ],
   "source": [
    "final_data[0]"
   ]
  },
  {
   "cell_type": "code",
   "execution_count": 16,
   "id": "3d4cd26d",
   "metadata": {},
   "outputs": [],
   "source": [
    "def create_chart (x, y, labels, kind='bar', title=''):\n",
    "    datasets = get_datasets(y, labels)\n",
    "    options = set_title(title='')\n",
    "\n",
    "    chart = {\n",
    "        'type': kind,\n",
    "        'data': {\n",
    "            'labels': x,\n",
    "            'datasets': datasets\n",
    "        },\n",
    "        'options': options\n",
    "    }\n",
    "    return chart"
   ]
  },
  {
   "cell_type": "code",
   "execution_count": 17,
   "id": "b0c38117",
   "metadata": {},
   "outputs": [],
   "source": [
    "def get_api_chart(chart):\n",
    "    url_base = 'https://quickchart.io/chart'\n",
    "    resp = r.get(f'{url_base}?c={str(chart)}')\n",
    "    return resp.content"
   ]
  },
  {
   "cell_type": "code",
   "execution_count": 18,
   "id": "61545bf0",
   "metadata": {},
   "outputs": [],
   "source": [
    "def save_image(path, content):\n",
    "    with open(path, 'wb') as image:\n",
    "        image.write(content)"
   ]
  },
  {
   "cell_type": "code",
   "execution_count": 19,
   "id": "7c6ab3b3",
   "metadata": {},
   "outputs": [],
   "source": [
    "from PIL import Image\n",
    "from IPython.display import display"
   ]
  },
  {
   "cell_type": "code",
   "execution_count": 20,
   "id": "291c3451",
   "metadata": {},
   "outputs": [],
   "source": [
    "def display_image(path):\n",
    "    img_pil = Image.open(path)\n",
    "    display(img_pil)"
   ]
  },
  {
   "cell_type": "code",
   "execution_count": 21,
   "id": "5311202d",
   "metadata": {
    "scrolled": true
   },
   "outputs": [
    {
     "data": {
      "image/png": "[encoded data removed]",
      "text/plain": [
       "<PIL.PngImagePlugin.PngImageFile image mode=RGBA size=1000x600 at 0x1AF4A09EB20>"
      ]
     },
     "metadata": {},
     "output_type": "display_data"
    }
   ],
   "source": [
    "y_data_1 = []\n",
    "for obs in final_data[1::50]:\n",
    "    y_data_1.append(obs[CONFIRMADOS])\n",
    "\n",
    "y_data_2 = []\n",
    "for obs in final_data[1::50]:\n",
    "    y_data_2.append(obs[RECUPERADOS])\n",
    "\n",
    "labels = ['Confirmados', 'Recuperados']\n",
    "\n",
    "x = []\n",
    "for obs in final_data[1::50]:\n",
    "    x.append(obs[DATA].strftime('%d/%m/%Y'))\n",
    "\n",
    "chart = create_chart(x, [y_data_1, y_data_2], labels, title='Gráfico Confirmados vs Recuperados')\n",
    "chart_content = get_api_chart(chart)\n",
    "save_image('meu_primeiro_grafico_com_python.png', chart_content)\n",
    "display_image('meu_primeiro_grafico_com_python.png')"
   ]
  },
  {
   "cell_type": "code",
   "execution_count": 22,
   "id": "af58a880",
   "metadata": {},
   "outputs": [],
   "source": [
    "from urllib.parse import quote"
   ]
  },
  {
   "cell_type": "code",
   "execution_count": 23,
   "id": "75b7ce9c",
   "metadata": {},
   "outputs": [],
   "source": [
    "def get_api_qrcode(link):\n",
    "    text = quote(link)\n",
    "    url_base = 'https://quickchart.io/qr'\n",
    "    resp = r.get(f'{url_base}?text={text}')\n",
    "    return resp.content"
   ]
  },
  {
   "cell_type": "code",
   "execution_count": 24,
   "id": "f64de39a",
   "metadata": {},
   "outputs": [
    {
     "data": {
      "image/png": "[encoded data removed]",
      "text/plain": [
       "<PIL.PngImagePlugin.PngImageFile image mode=RGBA size=150x150 at 0x1AF4A09E100>"
      ]
     },
     "metadata": {},
     "output_type": "display_data"
    }
   ],
   "source": [
    "url_base = 'https://quickchart.io/chart'\n",
    "link = f'{url_base}?c={str(chart)}'\n",
    "save_image('qr_code.png', get_api_qrcode(link))\n",
    "display_image('qr_code.png')"
   ]
  },
  {
   "cell_type": "code",
   "execution_count": 47,
   "id": "ebc072ce",
   "metadata": {},
   "outputs": [
    {
     "data": {
      "text/plain": [
       "{'ID': 'a832f928-7fc5-4b87-9f25-240412f6ac82',\n",
       " 'Country': 'Brazil',\n",
       " 'CountryCode': 'BR',\n",
       " 'Province': '',\n",
       " 'City': '',\n",
       " 'CityCode': '',\n",
       " 'Lat': '-14.24',\n",
       " 'Lon': '-51.93',\n",
       " 'Confirmed': 1,\n",
       " 'Deaths': 0,\n",
       " 'Recovered': 0,\n",
       " 'Active': 1,\n",
       " 'Date': '2020-02-27T00:00:00Z'}"
      ]
     },
     "execution_count": 47,
     "metadata": {},
     "output_type": "execute_result"
    }
   ],
   "source": [
    "raw_data[1]"
   ]
  },
  {
   "cell_type": "code",
   "execution_count": 48,
   "id": "69c9fff4",
   "metadata": {},
   "outputs": [
    {
     "data": {
      "text/plain": [
       "[1, 0, 0, 1, datetime.datetime(2020, 2, 26, 0, 0)]"
      ]
     },
     "execution_count": 48,
     "metadata": {},
     "output_type": "execute_result"
    }
   ],
   "source": [
    "final_data[1]"
   ]
  },
  {
   "cell_type": "code",
   "execution_count": null,
   "id": "dae90bed",
   "metadata": {},
   "outputs": [],
   "source": []
  }
 ],
 "metadata": {
  "kernelspec": {
   "display_name": "Python 3 (ipykernel)",
   "language": "python",
   "name": "python3"
  },
  "language_info": {
   "codemirror_mode": {
    "name": "ipython",
    "version": 3
   },
   "file_extension": ".py",
   "mimetype": "text/x-python",
   "name": "python",
   "nbconvert_exporter": "python",
   "pygments_lexer": "ipython3",
   "version": "3.9.6"
  }
 },
 "nbformat": 4,
 "nbformat_minor": 5
}
